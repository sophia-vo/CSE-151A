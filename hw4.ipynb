{
  "cells": [
    {
      "cell_type": "markdown",
      "id": "0ceeeb46",
      "metadata": {
        "id": "0ceeeb46"
      },
      "source": [
        "# Homework 4\n",
        "\n",
        "For this assignment, you will be developing an artificial neural network to classify data given in the __[Dry Beans Data Set](https://archive.ics.uci.edu/ml/datasets/Dry+Bean+Dataset#)__. This data set was obtained as a part of a research study by Selcuk University, Turkey, in which a computer vision system was developed to distinguish seven different registered varieties of dry beans with similar features. More details on the study can be found in the following __[research paper](https://www.sciencedirect.com/science/article/pii/S0168169919311573)__. <br>\n",
        "### **Make sure to use the lecture notebook on an introduction to keras and cross validation located [here](https://colab.research.google.com/drive/1ksEGL7SJ_wutCIyPYx7Loe5EPdOij6dJ?usp=sharing) and [here](https://colab.research.google.com/drive/1C9Mwf1J2ril1Q4l6n2BjQMb8YaFySG5_?usp=sharing)**.\n",
        "\n",
        "## About the Data Set\n",
        "Seven different types of dry beans were used in a study in Selcuk University, Turkey, taking into account the features such as form, shape, type, and structure by the market situation. A computer vision system was developed to distinguish seven different registered varieties of dry beans with similar features in order to obtain uniform seed classification. For the **classification** model, images of 13611 grains of 7 different registered dry beans were taken with a high-resolution camera. Bean images obtained by computer vision system were subjected to segmentation and feature extraction stages, and a total of 16 features - 12 dimensions and 4 shape forms - were obtained from the grains.\n",
        "\n",
        "Number of Instances (records in the data set): __13611__\n",
        "\n",
        "Number of Attributes (fields within each record, including the class): __17__\n",
        "\n",
        "### Data Set Attribute Information:\n",
        "\n",
        "1. __Area (A)__ : The area of a bean zone and the number of pixels within its boundaries.\n",
        "2. __Perimeter (P)__ : Bean circumference is defined as the length of its border.\n",
        "3. __Major axis length (L)__ : The distance between the ends of the longest line that can be drawn from a bean.\n",
        "4. __Minor axis length (l)__ : The longest line that can be drawn from the bean while standing perpendicular to the main axis.\n",
        "5. __Aspect ratio (K)__ : Defines the relationship between L and l.\n",
        "6. __Eccentricity (Ec)__ : Eccentricity of the ellipse having the same moments as the region.\n",
        "7. __Convex area (C)__ : Number of pixels in the smallest convex polygon that can contain the area of a bean seed.\n",
        "8. __Equivalent diameter (Ed)__ : The diameter of a circle having the same area as a bean seed area.\n",
        "9. __Extent (Ex)__ : The ratio of the pixels in the bounding box to the bean area.\n",
        "10. __Solidity (S)__ : Also known as convexity. The ratio of the pixels in the convex shell to those found in beans.\n",
        "11. __Roundness (R)__ : Calculated with the following formula: (4piA)/(P^2)\n",
        "12. __Compactness (CO)__ : Measures the roundness of an object: Ed/L\n",
        "13. __ShapeFactor1 (SF1)__\n",
        "14. __ShapeFactor2 (SF2)__\n",
        "15. __ShapeFactor3 (SF3)__\n",
        "16. __ShapeFactor4 (SF4)__\n",
        "\n",
        "17. __Classes : *Seker, Barbunya, Bombay, Cali, Dermosan, Horoz, Sira*__"
      ]
    },
    {
      "cell_type": "markdown",
      "id": "61beac74",
      "metadata": {
        "id": "61beac74"
      },
      "source": [
        "### Libraries that can be used :\n",
        "- NumPy, SciPy, Pandas, Sci-Kit Learn, TensorFlow, Keras. You may also use PyTorch (though support may be limited)\n",
        "- Any other library used during the lectures and discussion sessions.\n",
        "\n",
        "### Other Notes\n",
        "- Don't worry about not being able to achieve high accuracy, it is neither the goal nor the grading standard of this assignment.\n",
        "- Discussion and Lecture materials should be helpful for doing the assignments.\n",
        "- The homework submission should be a .ipynb file.\n"
      ]
    },
    {
      "cell_type": "code",
      "execution_count": 1,
      "id": "LcVrrFbn1wzE",
      "metadata": {
        "id": "LcVrrFbn1wzE",
        "colab": {
          "base_uri": "https://localhost:8080/"
        },
        "outputId": "d4445476-b6db-4a6d-ba32-9db3c14325d9"
      },
      "outputs": [
        {
          "output_type": "stream",
          "name": "stdout",
          "text": [
            "Cloning into 'hw4'...\n",
            "remote: Enumerating objects: 69, done.\u001b[K\n",
            "remote: Counting objects: 100% (69/69), done.\u001b[K\n",
            "remote: Compressing objects: 100% (66/66), done.\u001b[K\n",
            "remote: Total 69 (delta 40), reused 7 (delta 2), pack-reused 0 (from 0)\u001b[K\n",
            "Receiving objects: 100% (69/69), 1.58 MiB | 12.24 MiB/s, done.\n",
            "Resolving deltas: 100% (40/40), done.\n"
          ]
        }
      ],
      "source": [
        "!git clone https://github.com/ucsd-cse151a-ss25/hw4.git"
      ]
    },
    {
      "cell_type": "markdown",
      "id": "0264c751",
      "metadata": {
        "id": "0264c751"
      },
      "source": [
        "\n",
        "## Exercise 1 : Building a Feed-Forward Neural Network(50 points)\n",
        "\n",
        "### Exercise 1.1 : Data Preprocessing (10 points)\n",
        "\n",
        "- As the classes are categorical, use one-hot encoding to represent the set of classes. You will find this useful when developing the output layer of the neural network.\n",
        "- Split the data into training and testing set by __90:10__ and use the training set for training the model and the test set to evaluate the model performance. Please set verbose=0 to suppress output during training.\n",
        "- Normalize each field of the input data using the min-max normalization technique.\n",
        "\n",
        "__Notes:__\n",
        "\n",
        "- Splitting of the dataset should be done __before__ the normalization step and __after__ the one-hot encoding."
      ]
    },
    {
      "cell_type": "code",
      "source": [
        "import pandas as pd\n",
        "from sklearn.model_selection import train_test_split\n",
        "from sklearn.preprocessing import MinMaxScaler, OneHotEncoder"
      ],
      "metadata": {
        "id": "_aW0fQ_UjgE7"
      },
      "id": "_aW0fQ_UjgE7",
      "execution_count": 10,
      "outputs": []
    },
    {
      "cell_type": "code",
      "execution_count": 11,
      "id": "1St-29dI04l3",
      "metadata": {
        "id": "1St-29dI04l3",
        "colab": {
          "base_uri": "https://localhost:8080/"
        },
        "outputId": "d022ba7b-86b7-4c7d-ef78-20e6a232bff6"
      },
      "outputs": [
        {
          "output_type": "stream",
          "name": "stdout",
          "text": [
            "X_train shape: (12249, 16)\n",
            "y_train shape: (12249, 7)\n",
            "X_test shape: (1362, 16)\n",
            "y_test shape: (1362, 7)\n"
          ]
        }
      ],
      "source": [
        "df = pd.read_csv('hw4/Dry_Beans_Dataset.csv')\n",
        "\n",
        "X = df.drop('Class', axis=1)\n",
        "y = df[['Class']]\n",
        "\n",
        "encoder = OneHotEncoder(sparse_output=False)\n",
        "y_onehot = encoder.fit_transform(y)\n",
        "\n",
        "X_train, X_test, y_train, y_test = train_test_split(X, y_onehot, test_size=0.1, random_state=151)\n",
        "\n",
        "scaler = MinMaxScaler()\n",
        "X_train_scaled = scaler.fit_transform(X_train)\n",
        "X_test_scaled = scaler.transform(X_test)\n",
        "\n",
        "print(\"X_train shape:\", X_train_scaled.shape)\n",
        "print(\"y_train shape:\", y_train.shape)\n",
        "print(\"X_test shape:\", X_test_scaled.shape)\n",
        "print(\"y_test shape:\", y_test.shape)"
      ]
    },
    {
      "cell_type": "markdown",
      "id": "o4QPlcYa0sHN",
      "metadata": {
        "id": "o4QPlcYa0sHN"
      },
      "source": [
        "### Exercise 1.2 : Training and Testing the Neural Network (40 points)\n",
        "\n",
        "Design a 3-layer (3 hidden layers and this does not include the input or output layer) artificial deep neural network, specifically a feed-forward multi-layer perceptron (using the sigmoid activation function), to classify the type of 'Dry Bean' given the other attributes in the data set, similar to the one mentioned in the paper above. Please note that this is a **multi-class classification** problem so select the right number of nodes accordingly for the input and output layers.\n",
        "\n",
        "Consider the following hyperparameters while developing your model:\n",
        "\n",
        "- Model type: Keras Sequential\n",
        "- Make sure your input layer matches the size of your X matrix\n",
        "- Number and type of hidden layers: 3 and Dense\n",
        "- Number of nodes in each hidden layer: 12\n",
        "- Learning rate should be 0.3\n",
        "- Number of epochs should be 100\n",
        "- The sigmoid function is to be used as the activation function in each layer\n",
        "- Your output layer has to use a sigmoid function and the number of outputs should match the shape of your y\n",
        "- Your loss function should be MSE\n",
        "- Stochastic Gradient Descent should be used to minimize the error rate\n",
        "\n",
        "**Note:** We are having you use MSE as your loss function for this model, is this a good choice? Why or why not? If not, what should you use instead in future models? Answer below\n",
        "\n",
        "__Requirements once the model has been trained :__\n",
        "\n",
        "- A confusion matrix for all classes, specifying the true positive, true negative, false positive, and false negative cases for each category in the class\n",
        "- Since we do have OHE output (multi-class output) you will need to either reshape or argmax your outputs. Make sure they have already been thresholded as well i.e. look at yhat and do you see 1's and 0's?\n",
        "- The accuracy and mean squared error (MSE) of the model\n",
        "- The precision and recall for each label in the class\n",
        "\n",
        "__Notes :__\n",
        "\n",
        "- The mean squared error (MSE) values obtained __should be positive__.\n"
      ]
    },
    {
      "cell_type": "markdown",
      "source": [
        "MSE is not a good loss function for a multi-class classification model since a discrete value is being predicted, not continuous. MSE calculates the squared differences between predicted probs and the ground truth. Cross entropy loss would be a better choice for a categorical model since the loss function measures the difference between the two probability distributions."
      ],
      "metadata": {
        "id": "6-w73ESwkfmD"
      },
      "id": "6-w73ESwkfmD"
    },
    {
      "cell_type": "code",
      "source": [
        "from sklearn.metrics import confusion_matrix, accuracy_score, mean_squared_error, precision_recall_fscore_support\n",
        "import numpy as np\n",
        "import tensorflow as tf\n",
        "from tensorflow import keras"
      ],
      "metadata": {
        "id": "vwJyx-wmj7NZ"
      },
      "id": "vwJyx-wmj7NZ",
      "execution_count": 12,
      "outputs": []
    },
    {
      "cell_type": "code",
      "execution_count": 13,
      "id": "KhW7lew706U8",
      "metadata": {
        "id": "KhW7lew706U8",
        "colab": {
          "base_uri": "https://localhost:8080/"
        },
        "outputId": "fc38becd-116c-4bbf-d3c6-73af460efb0b"
      },
      "outputs": [
        {
          "output_type": "stream",
          "name": "stdout",
          "text": [
            "\u001b[1m43/43\u001b[0m \u001b[32m━━━━━━━━━━━━━━━━━━━━\u001b[0m\u001b[37m\u001b[0m \u001b[1m0s\u001b[0m 2ms/step\n",
            "Confusion Matrix:\n",
            "[[ 34   0  67   0   3  11   5]\n",
            " [ 42   0   2   0   0   0   0]\n",
            " [  4   0 148   0   6   0   1]\n",
            " [  0   0   0 338   0   7   3]\n",
            " [  0   0   2   1 200   0   0]\n",
            " [  0   0   0   4   0 199   1]\n",
            " [  0   0   1  64  17  13 189]]\n",
            "Accuracy: 0.8135095447870778\n",
            "MSE: 0.05184947742856416\n",
            "Class: BARBUNYA\n",
            "Precision: 0.425\n",
            "Recall: 0.2833333333333333\n",
            "\n",
            "\n",
            "Class: BOMBAY\n",
            "Precision: 0.0\n",
            "Recall: 0.0\n",
            "\n",
            "\n",
            "Class: CALI\n",
            "Precision: 0.6727272727272727\n",
            "Recall: 0.9308176100628931\n",
            "\n",
            "\n",
            "Class: DERMASON\n",
            "Precision: 0.8304668304668305\n",
            "Recall: 0.9712643678160919\n",
            "\n",
            "\n",
            "Class: HOROZ\n",
            "Precision: 0.8849557522123894\n",
            "Recall: 0.9852216748768473\n",
            "\n",
            "\n",
            "Class: SEKER\n",
            "Precision: 0.8652173913043478\n",
            "Recall: 0.9754901960784313\n",
            "\n",
            "\n",
            "Class: SIRA\n",
            "Precision: 0.949748743718593\n",
            "Recall: 0.6654929577464789\n",
            "\n",
            "\n"
          ]
        }
      ],
      "source": [
        "model = keras.Sequential([\n",
        "    keras.layers.Input(shape=(X_train_scaled.shape[1],)),\n",
        "    keras.layers.Dense(12, activation='sigmoid'),\n",
        "    keras.layers.Dense(12, activation='sigmoid'),\n",
        "    keras.layers.Dense(12, activation='sigmoid'),\n",
        "    keras.layers.Dense(y_train.shape[1], activation='sigmoid')\n",
        "])\n",
        "\n",
        "sgd = tf.keras.optimizers.SGD(learning_rate=0.3)\n",
        "model.compile(optimizer=sgd, loss='mean_squared_error', metrics=['accuracy'])\n",
        "\n",
        "history = model.fit(X_train_scaled, y_train, epochs=100, verbose=0)\n",
        "\n",
        "y_pred_onehot = model.predict(X_test_scaled)\n",
        "y_pred = np.argmax(y_pred_onehot, axis=1)\n",
        "y_test_labels = np.argmax(y_test, axis=1)\n",
        "\n",
        "print(\"Confusion Matrix:\")\n",
        "print(confusion_matrix(y_test_labels, y_pred))\n",
        "print(f\"Accuracy: {accuracy_score(y_test_labels, y_pred)}\")\n",
        "print(f\"MSE: {mean_squared_error(y_test, y_pred_onehot)}\")\n",
        "\n",
        "precision, recall, _, _ = precision_recall_fscore_support(y_test_labels, y_pred, average=None, zero_division=0)\n",
        "class_names = encoder.categories_[0]\n",
        "\n",
        "for i, class_name in enumerate(class_names):\n",
        "    print(f\"Class: {class_name}\")\n",
        "    print(f\"Precision: {precision[i]}\")\n",
        "    print(f\"Recall: {recall[i]}\")\n",
        "    print(\"\\n\")"
      ]
    },
    {
      "cell_type": "code",
      "source": [
        "import matplotlib.pyplot as plt\n",
        "import seaborn as sns\n",
        "\n",
        "cm = confusion_matrix(y_test_labels, y_pred)\n",
        "\n",
        "plt.figure(figsize=(8,6))\n",
        "sns.heatmap(cm, annot=True, fmt=\"d\", cmap=\"seismic\",\n",
        "            xticklabels=class_names, yticklabels=class_names)\n",
        "\n",
        "plt.xlabel(\"Predicted\")\n",
        "plt.ylabel(\"Actual\")\n",
        "plt.title(\"Confusion Matrix\")\n",
        "plt.show()"
      ],
      "metadata": {
        "colab": {
          "base_uri": "https://localhost:8080/",
          "height": 564
        },
        "id": "MPu9T6ckld9V",
        "outputId": "b39bdf6e-1d67-4a40-cc90-fc5d34654796"
      },
      "id": "MPu9T6ckld9V",
      "execution_count": 14,
      "outputs": [
        {
          "output_type": "display_data",
          "data": {
            "text/plain": [
              "<Figure size 800x600 with 2 Axes>"
            ],
            "image/png": "[encoded data removed]"
          },
          "metadata": {}
        }
      ]
    },
    {
      "cell_type": "markdown",
      "id": "083f5188",
      "metadata": {
        "id": "083f5188"
      },
      "source": [
        "## Exercise 2 : k-fold Cross Validation (20 points)\n",
        "\n",
        "In order to avoid **using biased models**, use 10-fold cross validation to generalize the model from Ex1.2 on the given data set. You can choose a n_repeats value of 1-5\n",
        "\n",
        "__Requirements :__\n",
        "- Print the accuracy values during each iteration of the **cross validation** not the iterations per epoch or the epochs\n",
        "- Print the overall average accuracy per each n_fold value, look at the documentation for the scoring parameter\n",
        "\n"
      ]
    },
    {
      "cell_type": "code",
      "source": [
        "from sklearn.metrics import accuracy_score\n",
        "\n",
        "def create_model():\n",
        "    model = keras.Sequential([\n",
        "        keras.layers.Input(shape=(X.shape[1],)),\n",
        "        keras.layers.Dense(12, activation='sigmoid'),\n",
        "        keras.layers.Dense(12, activation='sigmoid'),\n",
        "        keras.layers.Dense(12, activation='sigmoid'),\n",
        "        keras.layers.Dense(y_onehot.shape[1], activation='sigmoid')\n",
        "    ])\n",
        "    sgd = tf.keras.optimizers.SGD(learning_rate=0.3)\n",
        "    model.compile(optimizer=sgd, loss='mean_squared_error', metrics=['accuracy'])\n",
        "    return model"
      ],
      "metadata": {
        "id": "_z6Dh3RHoJHe"
      },
      "id": "_z6Dh3RHoJHe",
      "execution_count": 26,
      "outputs": []
    },
    {
      "cell_type": "code",
      "execution_count": 27,
      "id": "tu8rIov607s4",
      "metadata": {
        "id": "tu8rIov607s4",
        "colab": {
          "base_uri": "https://localhost:8080/"
        },
        "outputId": "fb2b3b61-98bd-4dd9-f289-5c25e4f00c2d"
      },
      "outputs": [
        {
          "output_type": "stream",
          "name": "stdout",
          "text": [
            "10-fold Cross Validation\n",
            "--------------------------------\n",
            "\u001b[1m39/39\u001b[0m \u001b[32m━━━━━━━━━━━━━━━━━━━━\u001b[0m\u001b[37m\u001b[0m \u001b[1m0s\u001b[0m 3ms/step\n",
            "Fold 1 Accuracy: 0.45387755102040817\n",
            "\u001b[1m39/39\u001b[0m \u001b[32m━━━━━━━━━━━━━━━━━━━━\u001b[0m\u001b[37m\u001b[0m \u001b[1m0s\u001b[0m 3ms/step\n",
            "Fold 2 Accuracy: 0.6824489795918367\n",
            "\u001b[1m39/39\u001b[0m \u001b[32m━━━━━━━━━━━━━━━━━━━━\u001b[0m\u001b[37m\u001b[0m \u001b[1m0s\u001b[0m 3ms/step\n",
            "Fold 3 Accuracy: 0.6326530612244898\n",
            "\u001b[1m39/39\u001b[0m \u001b[32m━━━━━━━━━━━━━━━━━━━━\u001b[0m\u001b[37m\u001b[0m \u001b[1m0s\u001b[0m 3ms/step\n",
            "Fold 4 Accuracy: 0.5551020408163265\n",
            "\u001b[1m39/39\u001b[0m \u001b[32m━━━━━━━━━━━━━━━━━━━━\u001b[0m\u001b[37m\u001b[0m \u001b[1m0s\u001b[0m 3ms/step\n",
            "Fold 5 Accuracy: 0.5077551020408163\n",
            "\u001b[1m39/39\u001b[0m \u001b[32m━━━━━━━━━━━━━━━━━━━━\u001b[0m\u001b[37m\u001b[0m \u001b[1m0s\u001b[0m 3ms/step\n",
            "Fold 6 Accuracy: 0.5640816326530612\n",
            "\u001b[1m39/39\u001b[0m \u001b[32m━━━━━━━━━━━━━━━━━━━━\u001b[0m\u001b[37m\u001b[0m \u001b[1m0s\u001b[0m 3ms/step\n",
            "Fold 7 Accuracy: 0.45224489795918366\n",
            "\u001b[1m39/39\u001b[0m \u001b[32m━━━━━━━━━━━━━━━━━━━━\u001b[0m\u001b[37m\u001b[0m \u001b[1m0s\u001b[0m 3ms/step\n",
            "Fold 8 Accuracy: 0.5485714285714286\n",
            "\u001b[1m39/39\u001b[0m \u001b[32m━━━━━━━━━━━━━━━━━━━━\u001b[0m\u001b[37m\u001b[0m \u001b[1m0s\u001b[0m 3ms/step\n",
            "Fold 9 Accuracy: 0.5787755102040816\n",
            "\u001b[1m39/39\u001b[0m \u001b[32m━━━━━━━━━━━━━━━━━━━━\u001b[0m\u001b[37m\u001b[0m \u001b[1m0s\u001b[0m 3ms/step\n",
            "Fold 10 Accuracy: 0.2636734693877551\n",
            "Average Accuracy: 0.5239183673469389\n"
          ]
        }
      ],
      "source": [
        "from sklearn.model_selection import KFold\n",
        "\n",
        "n_splits = 10\n",
        "kf = KFold(n_splits=n_splits, shuffle=True, random_state=151)\n",
        "accuracies = []\n",
        "\n",
        "print(f\"{n_splits}-fold Cross Validation\")\n",
        "print(\"--------------------------------\")\n",
        "\n",
        "for i, (train_index, test_index) in enumerate(kf.split(X_train_scaled)):\n",
        "    X_train_fold, X_test_fold = X_train_scaled[train_index], X_train_scaled[test_index]\n",
        "    y_train_fold, y_test_fold = y_train[train_index], y_train[test_index]\n",
        "\n",
        "    scaler_fold = MinMaxScaler()\n",
        "    X_train_fold_scaled = scaler_fold.fit_transform(X_train_fold)\n",
        "    X_test_fold_scaled = scaler_fold.transform(X_test_fold)\n",
        "\n",
        "    model = create_model()\n",
        "    model.fit(X_train_fold_scaled, y_train_fold, epochs=100, verbose=0)\n",
        "\n",
        "    y_pred_onehot = model.predict(X_test_fold_scaled)\n",
        "    y_pred = np.argmax(y_pred_onehot, axis=1)\n",
        "    y_test_labels = np.argmax(y_test_fold, axis=1)\n",
        "\n",
        "    accuracy = accuracy_score(y_test_labels, y_pred)\n",
        "    accuracies.append(accuracy)\n",
        "    print(f\"Fold {i+1} Accuracy: {accuracy}\")\n",
        "\n",
        "average_accuracy = np.mean(accuracies)\n",
        "print(f\"Average Accuracy: {average_accuracy}\")"
      ]
    },
    {
      "cell_type": "markdown",
      "id": "cef874c5",
      "metadata": {
        "id": "cef874c5"
      },
      "source": [
        "## Exercise 3 : Hyperparameter Tuning (25 points)\n",
        "\n",
        "Use either grid search or random search methodology to find the optimal number of nodes required in each hidden layer, as well as the optimal learning rate and the different activation functions or optimization approaches, [keras_tuner examples](https://keras.io/guides/keras_tuner/getting_started/) such that the accuracy of the model is maximum for the given data set.\n",
        "\n",
        "__Requirements :__\n",
        "- The set of optimal hyperparameters\n",
        "- Try your best to maximize accuracy using this set of optimal hyperparameters\n",
        "\n",
        "__Note :__ Hyperparameter tuning takes a lot of time to execute. Make sure that you choose the appropriate number of each hyperparameter (preferably 3 of each), and that you allocate enough time to execute your code. Make sure to tune at least three parameters with three options each at a minimum, but feel free to experiment with more, just recognize that it will grow exponentially in running time"
      ]
    },
    {
      "cell_type": "code",
      "source": [
        "import keras_tuner as kt"
      ],
      "metadata": {
        "id": "_stTm9yqyKbx"
      },
      "id": "_stTm9yqyKbx",
      "execution_count": 33,
      "outputs": []
    },
    {
      "cell_type": "code",
      "execution_count": 35,
      "id": "5572c87d",
      "metadata": {
        "id": "5572c87d",
        "colab": {
          "base_uri": "https://localhost:8080/"
        },
        "outputId": "40af9b70-b0d0-4189-a41e-7036a8967970"
      },
      "outputs": [
        {
          "output_type": "stream",
          "name": "stdout",
          "text": [
            "Trial 30 Complete [00h 01m 54s]\n",
            "val_accuracy: 0.6342857182025909\n",
            "\n",
            "Best val_accuracy So Far: 0.9363265335559845\n",
            "Total elapsed time: 01h 03m 22s\n",
            "\n",
            "Optimal Hyperparameters\n",
            "Number of layers: 4\n",
            "Units in layer 0: 16\n",
            "Units in layer 1: 64\n",
            "Units in layer 2: 40\n",
            "Units in layer 3: 48\n",
            "Activation: tanh\n",
            "Optimizer: adam\n",
            "Learning rate: 0.001\n",
            "Best epoch: 88\n",
            "\n",
            "Final Model:\n",
            "Test loss: 0.21486884355545044\n",
            "Test accuracy: 0.9265785813331604\n"
          ]
        }
      ],
      "source": [
        "X_train, X_test, y_train, y_test = train_test_split(X, y_onehot, test_size=0.1, random_state=200)\n",
        "\n",
        "scaler = MinMaxScaler()\n",
        "X_train_scaled = scaler.fit_transform(X_train)\n",
        "X_test_scaled = scaler.transform(X_test)\n",
        "\n",
        "def build_model(hpmodel):\n",
        "    model = keras.Sequential()\n",
        "    model.add(keras.layers.Input(shape=(X_train_scaled.shape[1],)))\n",
        "\n",
        "    num_layers = hpmodel.Int('num_layers', 1, 5)\n",
        "    activation = hpmodel.Choice('activation', ['relu', 'tanh', 'sigmoid'])\n",
        "    for i in range(num_layers):\n",
        "        units = hpmodel.Int(f'units_{i}', min_value=8, max_value=80, step=8)\n",
        "        model.add(keras.layers.Dense(units=units, activation=activation))\n",
        "\n",
        "    model.add(keras.layers.Dense(y_train.shape[1], activation='softmax'))\n",
        "\n",
        "    lr = hpmodel.Choice('learning_rate', values=[0.1, 0.01, 0.005, 0.001, 0.0008,\n",
        "        0.0005, 0.0001])\n",
        "    opt_name = hpmodel.Choice('optimizer', values=['adam', 'sgd', 'rmsprop',\n",
        "        'adagrad'])\n",
        "\n",
        "    if opt_name == 'adam':\n",
        "        optimizer = tf.keras.optimizers.Adam(learning_rate=lr)\n",
        "    elif opt_name == 'sgd':\n",
        "        optimizer = tf.keras.optimizers.SGD(learning_rate=lr)\n",
        "    elif opt_name == 'adagrad':\n",
        "        optimizer = tf.keras.optimizers.Adagrad(learning_rate=lr)\n",
        "    else:\n",
        "        optimizer = tf.keras.optimizers.RMSprop(learning_rate=lr)\n",
        "\n",
        "    model.compile(optimizer=optimizer,\n",
        "                  loss='categorical_crossentropy',\n",
        "                  metrics=['accuracy'])\n",
        "    return model\n",
        "\n",
        "\n",
        "tuner = kt.RandomSearch(\n",
        "    build_model,\n",
        "    objective='val_accuracy',\n",
        "    max_trials=30,\n",
        "    executions_per_trial=2,\n",
        "    directory='keras_tuner_dir',\n",
        "    project_name='dry_beans_tuning_combined'\n",
        ")\n",
        "\n",
        "X_train_hp, X_val_hp, y_train_hp, y_val_hp = train_test_split(\n",
        "    X_train_scaled, y_train, test_size=0.2, random_state=151\n",
        ")\n",
        "\n",
        "tuner.search(X_train_hp, y_train_hp, epochs=50, validation_data=(X_val_hp,\n",
        "    y_val_hp), verbose=1)\n",
        "\n",
        "best_hps = tuner.get_best_hyperparameters(num_trials=1)[0]\n",
        "\n",
        "print(\"\\nOptimal Hyperparameters\")\n",
        "print(f\"Number of layers: {best_hps.get('num_layers')}\")\n",
        "for i in range(best_hps.get('num_layers')):\n",
        "    print(f\"Units in layer {i}: {best_hps.get(f'units_{i}')}\")\n",
        "print(f\"Activation: {best_hps.get('activation')}\")\n",
        "print(f\"Optimizer: {best_hps.get('optimizer')}\")\n",
        "print(f\"Learning rate: {best_hps.get('learning_rate')}\")\n",
        "\n",
        "model = tuner.hypermodel.build(best_hps)\n",
        "history = model.fit(X_train_hp, y_train_hp, epochs=100,\n",
        "    validation_data=(X_val_hp, y_val_hp), verbose=0)\n",
        "\n",
        "val_acc_per_epoch = history.history['val_accuracy']\n",
        "best_epoch = val_acc_per_epoch.index(max(val_acc_per_epoch)) + 1\n",
        "print(f\"Best epoch: {best_epoch}\")\n",
        "\n",
        "hypermodel = tuner.hypermodel.build(best_hps)\n",
        "hypermodel.fit(X_train_scaled, y_train, epochs=best_epoch, verbose=0)\n",
        "\n",
        "test_loss, test_acc = hypermodel.evaluate(X_test_scaled, y_test, verbose=0)\n",
        "print(\"\\nFinal Model:\")\n",
        "print(f\"Test loss: {test_loss}\")\n",
        "print(f\"Test accuracy: {test_acc}\")\n"
      ]
    },
    {
      "cell_type": "markdown",
      "id": "nPfZ4mzk09EI",
      "metadata": {
        "id": "nPfZ4mzk09EI"
      },
      "source": [
        "## Exercise 4 - Collaborative Statement (5 points)\n",
        "\n",
        "It is mandatory to include a Statement of Collaboration in each submission, that follows the guidelines below.\n",
        "Include the names of everyone involved in the discussions (especially in-person ones), and what was discussed.\n",
        "All students are required to follow the academic honesty guidelines posted on the course website. For\n",
        "programming assignments in particular, I encourage students to organize (perhaps using Piazza) to discuss the\n",
        "task descriptions, requirements, possible bugs in the support code, and the relevant technical content before they\n",
        "start working on it. However, you should not discuss the specific solutions, and as a guiding principle, you are\n",
        "not allowed to take anything written or drawn away from these discussions (no photographs of the blackboard,\n",
        "written notes, referring to Piazza, etc.). Especially after you have started working on the assignment, try to restrict\n",
        "the discussion to Piazza as much as possible, so that there is no doubt as to the extent of your collaboration.\n",
        "\n",
        "Even if you did not use any outside resources or collaborate with anyone, please state that explicitly in the space below."
      ]
    },
    {
      "cell_type": "markdown",
      "source": [
        "Pandas, sklearn, numpy documentation (however code from discussion workbooks and lecture was used), auto code completion from colab were used, and copilot for deugging; there was no collaboration with others."
      ],
      "metadata": {
        "id": "ohl4KcHzOfdR"
      },
      "id": "ohl4KcHzOfdR"
    },
    {
      "cell_type": "code",
      "execution_count": null,
      "id": "5Cawhjqe09Q6",
      "metadata": {
        "id": "5Cawhjqe09Q6"
      },
      "outputs": [],
      "source": []
    }
  ],
  "metadata": {
    "colab": {
      "provenance": []
    },
    "kernelspec": {
      "display_name": "Python 3",
      "language": "python",
      "name": "python3"
    },
    "language_info": {
      "codemirror_mode": {
        "name": "ipython",
        "version": 3
      },
      "file_extension": ".py",
      "mimetype": "text/x-python",
      "name": "python",
      "nbconvert_exporter": "python",
      "pygments_lexer": "ipython3",
      "version": "3.8.10"
    }
  },
  "nbformat": 4,
  "nbformat_minor": 5
}